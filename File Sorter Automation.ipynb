{
 "cells": [
  {
   "cell_type": "code",
   "execution_count": 1,
   "id": "4fed323e-8c17-4590-8855-9733524a73f3",
   "metadata": {},
   "outputs": [],
   "source": [
    "#importing packages\n",
    "import os, shutil"
   ]
  },
  {
   "cell_type": "code",
   "execution_count": 5,
   "id": "7a8e8545-d7fe-45cc-b6d7-7d193e5777dc",
   "metadata": {},
   "outputs": [],
   "source": [
    "#creating the file path\n",
    "path = r'C:\\Users\\drews\\OneDrive\\Documents\\Automatic Sorter\\\\'"
   ]
  },
  {
   "cell_type": "code",
   "execution_count": 4,
   "id": "37720c6a-a131-4fe6-b9f2-b1f33bcd73a6",
   "metadata": {},
   "outputs": [
    {
     "data": {
      "text/plain": [
       "['CSVFile.csv',\n",
       " 'FakeFile.csv',\n",
       " 'FakeFile.txt',\n",
       " 'Max.png',\n",
       " 'NewFile.tsv',\n",
       " 'NewFile.txt',\n",
       " 'Rosie.png']"
      ]
     },
     "execution_count": 4,
     "metadata": {},
     "output_type": "execute_result"
    }
   ],
   "source": [
    "# this will show the list of all the files in the path\n",
    "os.listdir(path)"
   ]
  },
  {
   "cell_type": "code",
   "execution_count": 12,
   "id": "8cc4f969-017a-48b5-8091-00ee46adc101",
   "metadata": {},
   "outputs": [],
   "source": [
    "#os.makedirs(path + new folder name) \n",
    "folder_names = ['CSV Files','Text Files','Images Files']\n",
    "#C:\\Users\\drews\\OneDrive\\Documents\\Automatic Sorter\\Image Files'\n",
    "\n",
    "for folder in folder_names: \n",
    "    if not os.path.exists(path + folder):\n",
    "        os.makedirs(path + folder)"
   ]
  },
  {
   "cell_type": "code",
   "execution_count": 13,
   "id": "4dccac25-5804-4c26-ae59-3935208f990c",
   "metadata": {},
   "outputs": [
    {
     "data": {
      "text/plain": [
       "['CSV Files',\n",
       " 'CSVFile.csv',\n",
       " 'FakeFile.csv',\n",
       " 'FakeFile.txt',\n",
       " 'Images Files',\n",
       " 'Max.png',\n",
       " 'NewFile.tsv',\n",
       " 'NewFile.txt',\n",
       " 'Rosie.png',\n",
       " 'Text Files']"
      ]
     },
     "execution_count": 13,
     "metadata": {},
     "output_type": "execute_result"
    }
   ],
   "source": [
    "os.listdir(path)"
   ]
  },
  {
   "cell_type": "code",
   "execution_count": 14,
   "id": "3f0f71db-6b29-4ff9-a483-0bdec1d09f7d",
   "metadata": {},
   "outputs": [],
   "source": [
    "file_names = os.listdir(path)"
   ]
  },
  {
   "cell_type": "code",
   "execution_count": 16,
   "id": "b523f436-087d-4d2e-ba53-7e9faeb1a535",
   "metadata": {},
   "outputs": [],
   "source": [
    "#creating the automation to store csv files, image files and txt files\n",
    "for file in file_names:\n",
    "    if '.csv' in file and not os.path.exists(path + 'CSV Files\\\\' + file):\n",
    "        shutil.move(path + file,path + 'CSV Files\\\\' + file)\n",
    "    elif '.png' in file and not os.path.exists(path + 'Images Files\\\\' + file):\n",
    "        shutil.move(path + file,path + 'Images Files\\\\' + file)\n",
    "    elif '.txt' in file and not os.path.exists(path + 'Text Files\\\\' + file):\n",
    "        shutil.move(path + file,path + 'Text Files\\\\' + file)"
   ]
  },
  {
   "cell_type": "code",
   "execution_count": 17,
   "id": "00938798-c88e-4d3b-975f-5843958cd19f",
   "metadata": {},
   "outputs": [],
   "source": [
    "path = r'C:\\Users\\drews\\OneDrive\\Documents\\Automatic Sorter\\\\'\n",
    "\n",
    "folder_names = ['CSV Files','Text Files','Images Files']\n",
    "\n",
    "for folder in folder_names: \n",
    "    if not os.path.exists(path + folder):\n",
    "        os.makedirs(path + folder)\n",
    "\n",
    "file_names = os.listdir(path)\n",
    "\n",
    "for file in file_names:\n",
    "    if '.csv' in file and not os.path.exists(path + 'CSV Files\\\\' + file):\n",
    "        shutil.move(path + file,path + 'CSV Files\\\\' + file)\n",
    "    elif '.png' in file and not os.path.exists(path + 'Images Files\\\\' + file):\n",
    "        shutil.move(path + file,path + 'Images Files\\\\' + file)\n",
    "    elif '.txt' in file and not os.path.exists(path + 'Text Files\\\\' + file):\n",
    "        shutil.move(path + file,path + 'Text Files\\\\' + file)"
   ]
  },
  {
   "cell_type": "code",
   "execution_count": null,
   "id": "95cf5247-5b31-4511-ab85-d35f1c6977a7",
   "metadata": {},
   "outputs": [],
   "source": []
  }
 ],
 "metadata": {
  "kernelspec": {
   "display_name": "Python 3 (ipykernel)",
   "language": "python",
   "name": "python3"
  },
  "language_info": {
   "codemirror_mode": {
    "name": "ipython",
    "version": 3
   },
   "file_extension": ".py",
   "mimetype": "text/x-python",
   "name": "python",
   "nbconvert_exporter": "python",
   "pygments_lexer": "ipython3",
   "version": "3.11.7"
  }
 },
 "nbformat": 4,
 "nbformat_minor": 5
}
