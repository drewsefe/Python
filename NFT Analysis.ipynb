{
 "cells": [
  {
   "cell_type": "code",
   "execution_count": 31,
   "id": "40a7955f-110c-4597-85ae-ec51490698a8",
   "metadata": {},
   "outputs": [],
   "source": [
    "#libraries\n",
    "import pandas as pd\n",
    "from IPython.display import HTML"
   ]
  },
  {
   "cell_type": "code",
   "execution_count": null,
   "id": "42164f7d-26a4-4cd8-a5d7-aced1b613c81",
   "metadata": {},
   "outputs": [],
   "source": [
    "#import Sales Data\n",
    "sales = pd.read_csv('sales_0xED5AF388653567Af2F388E6224dC7C4b3241C544.csv')\n",
    "sales.head()"
   ]
  },
  {
   "cell_type": "code",
   "execution_count": null,
   "id": "9a94271c-8485-41cf-91a1-5fcdd900a60e",
   "metadata": {},
   "outputs": [],
   "source": [
    "#import Meta Data\n",
    "metadata = pd.read_csv('metadata_0xED5AF388653567Af2F388E6224dC7C4b3241C544.csv')\n",
    "metadata.head()"
   ]
  },
  {
   "cell_type": "code",
   "execution_count": null,
   "id": "9e8e2d53-c914-4a4a-b210-59720f48f55f",
   "metadata": {
    "scrolled": true
   },
   "outputs": [],
   "source": [
    "#import Transfers\n",
    "transfers = pd.read_csv('transfers_0xED5AF388653567Af2F388E6224dC7C4b3241C544.csv')\n",
    "transfers.head()"
   ]
  },
  {
   "cell_type": "code",
   "execution_count": 33,
   "id": "d24ce9c2-5016-4bfa-8c75-864c5084b83d",
   "metadata": {},
   "outputs": [
    {
     "data": {
      "text/html": [
       "<table border=\"1\" class=\"dataframe\">\n",
       "  <thead>\n",
       "    <tr style=\"text-align: right;\">\n",
       "      <th></th>\n",
       "      <th>$/Rarity</th>\n",
       "      <th>asset_id_left</th>\n",
       "      <th>sale_price_usd</th>\n",
       "      <th>overall_rarity_score</th>\n",
       "      <th>date</th>\n",
       "      <th>buyer</th>\n",
       "      <th>url</th>\n",
       "    </tr>\n",
       "  </thead>\n",
       "  <tbody>\n",
       "    <tr>\n",
       "      <th>25266</th>\n",
       "      <td>1200.751313</td>\n",
       "      <td>6679</td>\n",
       "      <td>347473.960038</td>\n",
       "      <td>289.380454</td>\n",
       "      <td>2022-04-03</td>\n",
       "      <td>0x542d891303f5b70bbca0ccba83811560f45968a4</td>\n",
       "      <td><a href=\"https://opensea.io/assets/ethereum/0xbc4ca0eda7647a8ab7c2061c2e118a18a936f13d/6679\" target=\"_blank\">https://opensea.io/assets/ethereum/0xbc4ca0eda7647a8ab7c2061c2e118a18a936f13d/6679</a></td>\n",
       "    </tr>\n",
       "    <tr>\n",
       "      <th>25391</th>\n",
       "      <td>604.830091</td>\n",
       "      <td>8546</td>\n",
       "      <td>100084.686639</td>\n",
       "      <td>165.475706</td>\n",
       "      <td>2022-04-02</td>\n",
       "      <td>0xb718727e7c8a4646d41d8b0be5e8e2c028b9efaa</td>\n",
       "      <td><a href=\"https://opensea.io/assets/ethereum/0xbc4ca0eda7647a8ab7c2061c2e118a18a936f13d/8546\" target=\"_blank\">https://opensea.io/assets/ethereum/0xbc4ca0eda7647a8ab7c2061c2e118a18a936f13d/8546</a></td>\n",
       "    </tr>\n",
       "    <tr>\n",
       "      <th>889</th>\n",
       "      <td>555.084619</td>\n",
       "      <td>5172</td>\n",
       "      <td>463770.033195</td>\n",
       "      <td>835.494296</td>\n",
       "      <td>2023-04-12</td>\n",
       "      <td>0xa9c859686f6a3cd942d1007a0d0c0710af4d694e</td>\n",
       "      <td><a href=\"https://opensea.io/assets/ethereum/0xbc4ca0eda7647a8ab7c2061c2e118a18a936f13d/5172\" target=\"_blank\">https://opensea.io/assets/ethereum/0xbc4ca0eda7647a8ab7c2061c2e118a18a936f13d/5172</a></td>\n",
       "    </tr>\n",
       "    <tr>\n",
       "      <th>25392</th>\n",
       "      <td>542.545036</td>\n",
       "      <td>4363</td>\n",
       "      <td>556505.369674</td>\n",
       "      <td>1025.731198</td>\n",
       "      <td>2022-04-02</td>\n",
       "      <td>0x2511d32e59c22a422b0809ab6f9cc4910edf4e4f</td>\n",
       "      <td><a href=\"https://opensea.io/assets/ethereum/0xbc4ca0eda7647a8ab7c2061c2e118a18a936f13d/4363\" target=\"_blank\">https://opensea.io/assets/ethereum/0xbc4ca0eda7647a8ab7c2061c2e118a18a936f13d/4363</a></td>\n",
       "    </tr>\n",
       "    <tr>\n",
       "      <th>25297</th>\n",
       "      <td>518.664910</td>\n",
       "      <td>6043</td>\n",
       "      <td>120791.863185</td>\n",
       "      <td>232.889985</td>\n",
       "      <td>2022-04-02</td>\n",
       "      <td>0x57998b18c630d592af39dc7f2381c933c652aacf</td>\n",
       "      <td><a href=\"https://opensea.io/assets/ethereum/0xbc4ca0eda7647a8ab7c2061c2e118a18a936f13d/6043\" target=\"_blank\">https://opensea.io/assets/ethereum/0xbc4ca0eda7647a8ab7c2061c2e118a18a936f13d/6043</a></td>\n",
       "    </tr>\n",
       "    <tr>\n",
       "      <th>25456</th>\n",
       "      <td>518.248531</td>\n",
       "      <td>7175</td>\n",
       "      <td>548740.178469</td>\n",
       "      <td>1058.835955</td>\n",
       "      <td>2022-04-02</td>\n",
       "      <td>0x5683de046501f46d3d7f63fd56fb19a844c5d1a0</td>\n",
       "      <td><a href=\"https://opensea.io/assets/ethereum/0xbc4ca0eda7647a8ab7c2061c2e118a18a936f13d/7175\" target=\"_blank\">https://opensea.io/assets/ethereum/0xbc4ca0eda7647a8ab7c2061c2e118a18a936f13d/7175</a></td>\n",
       "    </tr>\n",
       "    <tr>\n",
       "      <th>25345</th>\n",
       "      <td>499.676784</td>\n",
       "      <td>6842</td>\n",
       "      <td>113820.447081</td>\n",
       "      <td>227.788144</td>\n",
       "      <td>2022-04-02</td>\n",
       "      <td>0xd2f1b26262030b65f0e151a77dfd4fbfad2a461a</td>\n",
       "      <td><a href=\"https://opensea.io/assets/ethereum/0xbc4ca0eda7647a8ab7c2061c2e118a18a936f13d/6842\" target=\"_blank\">https://opensea.io/assets/ethereum/0xbc4ca0eda7647a8ab7c2061c2e118a18a936f13d/6842</a></td>\n",
       "    </tr>\n",
       "    <tr>\n",
       "      <th>25519</th>\n",
       "      <td>495.502480</td>\n",
       "      <td>1334</td>\n",
       "      <td>492495.426450</td>\n",
       "      <td>993.931305</td>\n",
       "      <td>2022-04-01</td>\n",
       "      <td>0x1c66f8a8fa9d34d26b6767cca81e4f0fb8f0692f</td>\n",
       "      <td><a href=\"https://opensea.io/assets/ethereum/0xbc4ca0eda7647a8ab7c2061c2e118a18a936f13d/1334\" target=\"_blank\">https://opensea.io/assets/ethereum/0xbc4ca0eda7647a8ab7c2061c2e118a18a936f13d/1334</a></td>\n",
       "    </tr>\n",
       "    <tr>\n",
       "      <th>25355</th>\n",
       "      <td>495.384545</td>\n",
       "      <td>7324</td>\n",
       "      <td>110438.274912</td>\n",
       "      <td>222.934437</td>\n",
       "      <td>2022-04-02</td>\n",
       "      <td>0xa0d40d99f1f5ca15a9c194e1da77c31969aafc03</td>\n",
       "      <td><a href=\"https://opensea.io/assets/ethereum/0xbc4ca0eda7647a8ab7c2061c2e118a18a936f13d/7324\" target=\"_blank\">https://opensea.io/assets/ethereum/0xbc4ca0eda7647a8ab7c2061c2e118a18a936f13d/7324</a></td>\n",
       "    </tr>\n",
       "    <tr>\n",
       "      <th>25389</th>\n",
       "      <td>491.747698</td>\n",
       "      <td>7194</td>\n",
       "      <td>113889.471003</td>\n",
       "      <td>231.601432</td>\n",
       "      <td>2022-04-02</td>\n",
       "      <td>0xf6527cafa74640e0bbacfdee89eb667046ccdcbb</td>\n",
       "      <td><a href=\"https://opensea.io/assets/ethereum/0xbc4ca0eda7647a8ab7c2061c2e118a18a936f13d/7194\" target=\"_blank\">https://opensea.io/assets/ethereum/0xbc4ca0eda7647a8ab7c2061c2e118a18a936f13d/7194</a></td>\n",
       "    </tr>\n",
       "  </tbody>\n",
       "</table>"
      ],
      "text/plain": [
       "<IPython.core.display.HTML object>"
      ]
     },
     "execution_count": 33,
     "metadata": {},
     "output_type": "execute_result"
    }
   ],
   "source": [
    "#Join the sales and the meta data\n",
    "sales_with_meta = sales.join(metadata, on = 'asset_id', lsuffix='_left', rsuffix='_right')\n",
    "\n",
    "#Take the sales price and divide the rarit to create a rarity score\n",
    "#The higher the money, and the lower rarity = higher score, which means a low value deal\n",
    "sales_with_meta['$/Rarity'] = sales_with_meta['sale_price_usd']/sales_with_meta['overall_rarity_score']\n",
    "\n",
    "#Creating a link to OpenSea page\n",
    "base_url = \"https://opensea.io/assets/ethereum/0xbc4ca0eda7647a8ab7c2061c2e118a18a936f13d/\"\n",
    "sales_with_meta['url'] = base_url + sales_with_meta['asset_id_left'].astype(str)\n",
    "\n",
    "#Top 10 lowest values\n",
    "important_columns = ['$/Rarity','asset_id_left','sale_price_usd','overall_rarity_score', 'date','buyer','url']\n",
    "top_10 = sales_with_meta[important_columns].sort_values(['$/Rarity'],ascending=False)[0:10]\n",
    "\n",
    "HTML(top_10.to_html(render_links=True, escape=False))"
   ]
  },
  {
   "cell_type": "code",
   "execution_count": null,
   "id": "a86a12e5-2d5c-40ed-9f20-e2fec4a92d31",
   "metadata": {},
   "outputs": [],
   "source": []
  }
 ],
 "metadata": {
  "kernelspec": {
   "display_name": "Python 3 (ipykernel)",
   "language": "python",
   "name": "python3"
  },
  "language_info": {
   "codemirror_mode": {
    "name": "ipython",
    "version": 3
   },
   "file_extension": ".py",
   "mimetype": "text/x-python",
   "name": "python",
   "nbconvert_exporter": "python",
   "pygments_lexer": "ipython3",
   "version": "3.11.7"
  }
 },
 "nbformat": 4,
 "nbformat_minor": 5
}
