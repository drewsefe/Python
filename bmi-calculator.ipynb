{
 "cells": [
  {
   "cell_type": "code",
   "execution_count": 1,
   "metadata": {},
   "outputs": [
    {
     "name": "stdout",
     "output_type": "stream",
     "text": [
      "25.101869355177485\n",
      "Sam , you are overweight\n"
     ]
    }
   ],
   "source": [
    "name =  input(\"Enter your name: \")\n",
    "\n",
    "weight = int(input(\"Enter your weight in pounds: \"))\n",
    "\n",
    "height = int(input(\"Enter your height in inches: \"))\n",
    "\n",
    "BMI = (weight * 703) / (height * height)\n",
    "\n",
    "print(BMI)\n",
    "\n",
    "if BMI > 0:\n",
    "    if(BMI < 18.5): \n",
    "        print(name +\", you are underweight\")\n",
    "    elif (BMI <= 24.9):\n",
    "        print(name +\", you are normal weight\")\n",
    "    elif (BMI < 29.9):\n",
    "        print(name +\", you are overweight\")\n",
    "    elif (BMI < 34.9):\n",
    "        print(name +\", you are obese\")\n",
    "    elif (BMI < 39.9):\n",
    "        print(name +\", you are severely obese\")\n",
    "    else:\n",
    "        print(name +\", you are morbidly obese\")  "
   ]
  },
  {
   "cell_type": "code",
   "execution_count": null,
   "metadata": {},
   "outputs": [],
   "source": [
    "#BMI = (weight in pounds x 703) / (height in inches x height in inches)\n",
    "\n",
    "#under 18.5 = underweight -> minimal\n",
    "#18.5 - 24.9 = normal weight -> minimal \n",
    "#25 - 29.9 = overweight -> increased\n",
    "#30 - 34.9 = obese -> high\n",
    "#35 - 39.9 = severly obese -> very high \n",
    "#40 and over -> morebily obese -> extremely high"
   ]
  },
  {
   "cell_type": "code",
   "execution_count": null,
   "metadata": {},
   "outputs": [],
   "source": []
  }
 ],
 "metadata": {
  "kernelspec": {
   "display_name": "base",
   "language": "python",
   "name": "python3"
  },
  "language_info": {
   "codemirror_mode": {
    "name": "ipython",
    "version": 3
   },
   "file_extension": ".py",
   "mimetype": "text/x-python",
   "name": "python",
   "nbconvert_exporter": "python",
   "pygments_lexer": "ipython3",
   "version": "3.10.9"
  },
  "orig_nbformat": 4,
  "vscode": {
   "interpreter": {
    "hash": "0b0caae65cff28eae3fe759a8b4c663be303adf9cb37c1c2c9d724a578688acf"
   }
  }
 },
 "nbformat": 4,
 "nbformat_minor": 2
}
